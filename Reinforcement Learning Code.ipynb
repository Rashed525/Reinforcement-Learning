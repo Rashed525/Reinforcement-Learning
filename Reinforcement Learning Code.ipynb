{
 "cells": [
  {
   "cell_type": "markdown",
   "metadata": {},
   "source": [
    "### Betting Problem- Value Iteration ###"
   ]
  },
  {
   "cell_type": "code",
   "execution_count": 301,
   "metadata": {},
   "outputs": [],
   "source": [
    "\"Value Iteration for Sports Betting\"\n",
    "\"Value iteration helps generate v* (optimal value function) and pi* (optimal policy function)\"\n",
    "\n",
    "import numpy as np\n",
    "import sys\n",
    "import matplotlib.pyplot as plt\n",
    "\n",
    "def value_iteration_for_betting(p, theta=0.0001):\n",
    "    rewards = np.zeros(101)\n",
    "    rewards[100] = 1 \n",
    "    gamma = 1\n",
    "    \n",
    "    V = np.zeros(101)\n",
    "    \n",
    "    #V[25] = 0.1\n",
    "    \n",
    "    def single_step(num, V, rewards):\n",
    "        A = np.zeros(101)\n",
    "        for bet in range(1, min(num, 100-num)+1):\n",
    "            win = num + bet\n",
    "            lose = num - bet\n",
    "            A[bet] = p * (rewards[win] + V[win]*gamma) + (1-p) * (rewards[lose] + V[lose]*gamma)\n",
    "            # This is the core of the Bellman equation: The expected value of your action is \n",
    "            # the sum of immediate rewards and the value of the next state.\n",
    "        return A\n",
    "        \n",
    "    while True:\n",
    "        delta = 0\n",
    "        for num in range(1, 100):\n",
    "            # a single-step to find the best action\n",
    "            A = single_step(num, V, rewards)\n",
    "            best_action_value = np.max(A)\n",
    "            # Calculate delta across all states seen so far\n",
    "            delta = max(delta, np.abs(best_action_value - V[num]))\n",
    "            # Update the value function. \n",
    "            V[num] = best_action_value        \n",
    "        if delta < theta:\n",
    "            break\n",
    "            \n",
    "    \n",
    "    policy = [0 for _ in range(101)]\n",
    "    for num in range(1, 100):\n",
    "        # single step to find the best action for this state\n",
    "        A = single_step(num, V, rewards)\n",
    "        best_action = np.argmax(A)\n",
    "        # Always take the best action\n",
    "        policy[num] = best_action\n",
    "        \n",
    "        \n",
    "    \n",
    "    return policy, V"
   ]
  },
  {
   "cell_type": "code",
   "execution_count": 302,
   "metadata": {},
   "outputs": [],
   "source": [
    "policy, v = value_iteration_for_betting(0.4)"
   ]
  },
  {
   "cell_type": "code",
   "execution_count": 303,
   "metadata": {},
   "outputs": [
    {
     "name": "stdout",
     "output_type": "stream",
     "text": [
      "Policy:\n",
      "[0, 1, 2, 3, 4, 5, 6, 7, 8, 9, 10, 11, 12, 13, 11, 15, 9, 17, 7, 19, 20, 21, 22, 23, 24, 25, 1, 2, 3, 4, 5, 6, 7, 8, 9, 10, 11, 12, 38, 39, 40, 9, 8, 43, 44, 45, 4, 47, 2, 1, 50, 1, 2, 3, 4, 5, 6, 7, 8, 41, 10, 11, 12, 13, 14, 15, 34, 8, 18, 19, 20, 4, 22, 2, 1, 25, 1, 2, 3, 4, 5, 6, 7, 8, 9, 10, 11, 12, 12, 11, 10, 9, 8, 7, 6, 5, 4, 3, 2, 1, 0]\n"
     ]
    }
   ],
   "source": [
    "a1 = policy\n",
    "print(\"Policy:\")\n",
    "print(policy)"
   ]
  },
  {
   "cell_type": "code",
   "execution_count": 304,
   "metadata": {},
   "outputs": [
    {
     "name": "stdout",
     "output_type": "stream",
     "text": [
      "Value Function:\n",
      "[0.         0.00203162 0.00515507 0.00922512 0.01290418 0.01738208\n",
      " 0.02306279 0.02781403 0.03227457 0.03767825 0.04346082 0.05035153\n",
      " 0.05765757 0.06521897 0.06953507 0.07442925 0.08068842 0.08660695\n",
      " 0.09421092 0.10313138 0.10865755 0.11596417 0.12587883 0.1335785\n",
      " 0.1441471  0.16       0.16309304 0.16774251 0.17383767 0.17936474\n",
      " 0.18607649 0.19459454 0.20172104 0.20841305 0.21652655 0.22519453\n",
      " 0.2355273  0.24648826 0.25785582 0.2643026  0.27164589 0.28103263\n",
      " 0.28991593 0.30131638 0.31471349 0.32298754 0.33394956 0.3488281\n",
      " 0.36036974 0.37622184 0.4        0.40309304 0.40774251 0.41383767\n",
      " 0.41936474 0.42607649 0.43459454 0.44172104 0.44841305 0.45652655\n",
      " 0.46519453 0.4755273  0.48648826 0.49785582 0.5043026  0.51164589\n",
      " 0.52103263 0.52991593 0.54131638 0.55471349 0.56298754 0.57394956\n",
      " 0.5888281  0.60036974 0.61622184 0.64       0.6446455  0.65161885\n",
      " 0.66075673 0.66904783 0.67911672 0.69189296 0.70258156 0.71261958\n",
      " 0.72478983 0.73779252 0.75329686 0.7697331  0.7867873  0.79645404\n",
      " 0.80747003 0.82154894 0.8348739  0.85197811 0.87207238 0.88448202\n",
      " 0.90092434 0.92324343 0.9405546  0.96433276 0.        ]\n"
     ]
    }
   ],
   "source": [
    "b1 = v\n",
    "print(\"Value Function:\")\n",
    "print(v)"
   ]
  },
  {
   "cell_type": "code",
   "execution_count": 305,
   "metadata": {},
   "outputs": [],
   "source": [
    "policy1, v1 = value_iteration_for_betting(0.4)"
   ]
  },
  {
   "cell_type": "code",
   "execution_count": 306,
   "metadata": {},
   "outputs": [
    {
     "name": "stdout",
     "output_type": "stream",
     "text": [
      "Policy:\n",
      "[0, 1, 2, 3, 4, 5, 6, 7, 8, 9, 10, 11, 12, 13, 11, 15, 9, 17, 7, 19, 20, 21, 22, 23, 24, 25, 1, 2, 3, 4, 5, 6, 7, 8, 9, 10, 11, 12, 38, 39, 40, 9, 8, 43, 44, 45, 4, 47, 2, 1, 50, 1, 2, 3, 4, 5, 6, 7, 8, 41, 10, 11, 12, 13, 14, 15, 34, 8, 18, 19, 20, 4, 22, 2, 1, 25, 1, 2, 3, 4, 5, 6, 7, 8, 9, 10, 11, 12, 12, 11, 10, 9, 8, 7, 6, 5, 4, 3, 2, 1, 0]\n",
      "\n"
     ]
    }
   ],
   "source": [
    "a3 = policy1\n",
    "print(\"Policy:\")\n",
    "print(policy1)\n",
    "print(\"\")"
   ]
  },
  {
   "cell_type": "code",
   "execution_count": 307,
   "metadata": {},
   "outputs": [
    {
     "name": "stdout",
     "output_type": "stream",
     "text": [
      "True\n"
     ]
    }
   ],
   "source": [
    "print(np.array_equal(a1,a3))"
   ]
  },
  {
   "cell_type": "code",
   "execution_count": 308,
   "metadata": {},
   "outputs": [
    {
     "data": {
      "image/png": "[encoded data removed]",
      "text/plain": [
       "<Figure size 432x288 with 1 Axes>"
      ]
     },
     "metadata": {
      "needs_background": "light"
     },
     "output_type": "display_data"
    }
   ],
   "source": [
    "x = range(100)\n",
    "y = v[:100]\n",
    " \n",
    "plt.plot(x, y)\n",
    "plt.xlabel('Capital')\n",
    "plt.ylabel('Value Estimates')\n",
    "plt.title('Value function for p = 0.4')\n",
    "plt.show()"
   ]
  },
  {
   "cell_type": "code",
   "execution_count": 309,
   "metadata": {},
   "outputs": [
    {
     "data": {
      "image/png": "[encoded data removed]",
      "text/plain": [
       "<Figure size 432x288 with 1 Axes>"
      ]
     },
     "metadata": {
      "needs_background": "light"
     },
     "output_type": "display_data"
    }
   ],
   "source": [
    "x = range(100)\n",
    "y = policy[:100]\n",
    "\n",
    "plt.bar(x, y, align='center', alpha=0.5)\n",
    "plt.xlabel('Capital')\n",
    "plt.ylabel('Final policy (stake)')\n",
    "plt.title('Final Policy for p = 0.4')\n",
    "plt.show()"
   ]
  },
  {
   "cell_type": "code",
   "execution_count": 310,
   "metadata": {},
   "outputs": [
    {
     "data": {
      "image/png": "[encoded data removed]",
      "text/plain": [
       "<Figure size 864x432 with 2 Axes>"
      ]
     },
     "metadata": {
      "needs_background": "light"
     },
     "output_type": "display_data"
    }
   ],
   "source": [
    "policy, v = value_iteration_for_betting(0.25)\n",
    "x = range(100)\n",
    "y = v[:100]\n",
    "plt.figure(figsize=(12, 6))\n",
    "plt.subplot(1,2,1)\n",
    "plt.plot(x, y)\n",
    "plt.xlabel('Capital')\n",
    "plt.ylabel('Value Estimates')\n",
    "plt.title('Value function for p = 0.25')\n",
    "\n",
    "\n",
    "x = range(100)\n",
    "y = policy[:100]\n",
    "plt.subplot(1,2,2)\n",
    "plt.bar(x, y, align='center', alpha=0.5)\n",
    "plt.xlabel('Capital')\n",
    "plt.ylabel('Final policy (stake)')\n",
    "plt.title('Final Policy for p = 0.25')\n",
    "plt.tight_layout()\n",
    "plt.show()"
   ]
  },
  {
   "cell_type": "code",
   "execution_count": 311,
   "metadata": {},
   "outputs": [
    {
     "data": {
      "image/png": "[encoded data removed]",
      "text/plain": [
       "<Figure size 864x432 with 2 Axes>"
      ]
     },
     "metadata": {
      "needs_background": "light"
     },
     "output_type": "display_data"
    }
   ],
   "source": [
    "policy, v = value_iteration_for_betting(0.45)\n",
    "x = range(100)\n",
    "y = v[:100]\n",
    "plt.figure(figsize=(12, 6))\n",
    "plt.subplot(1,2,1)\n",
    "plt.plot(x, y)\n",
    "plt.xlabel('Capital')\n",
    "plt.ylabel('Value Estimates')\n",
    "plt.title('Value function for p = 0.45')\n",
    "\n",
    "\n",
    "x = range(100)\n",
    "y = policy[:100]\n",
    "plt.subplot(1,2,2)\n",
    "plt.bar(x, y, align='center', alpha=0.5)\n",
    "plt.xlabel('Capital')\n",
    "plt.ylabel('Final policy (stake)')\n",
    "plt.title('Final Policy for p = 0.45')\n",
    "plt.tight_layout()\n",
    "plt.show()"
   ]
  },
  {
   "cell_type": "code",
   "execution_count": 312,
   "metadata": {},
   "outputs": [
    {
     "data": {
      "image/png": "[encoded data removed]",
      "text/plain": [
       "<Figure size 864x432 with 2 Axes>"
      ]
     },
     "metadata": {
      "needs_background": "light"
     },
     "output_type": "display_data"
    }
   ],
   "source": [
    "policy, v = value_iteration_for_betting(0.5)\n",
    "x = range(100)\n",
    "y = v[:100]\n",
    "plt.figure(figsize=(12, 6))\n",
    "plt.subplot(1,2,1)\n",
    "plt.plot(x, y)\n",
    "plt.xlabel('Capital')\n",
    "plt.ylabel('Value Estimates')\n",
    "plt.title('Value function for p = 0.5')\n",
    "\n",
    "\n",
    "x = range(100)\n",
    "y = policy[:100]\n",
    "plt.subplot(1,2,2)\n",
    "plt.bar(x, y, align='center', alpha=0.5)\n",
    "plt.xlabel('Capital')\n",
    "plt.ylabel('Final policy (stake)')\n",
    "plt.title('Final Policy for p = 0.5')\n",
    "plt.tight_layout()\n",
    "plt.show()"
   ]
  },
  {
   "cell_type": "code",
   "execution_count": 313,
   "metadata": {},
   "outputs": [],
   "source": [
    "import numpy as np\n",
    "import sys\n",
    "import matplotlib.pyplot as plt\n",
    "\n",
    "def value_iteration_for_betting(p, theta=0.0001):\n",
    "    rewards = np.zeros(101)\n",
    "    rewards[100] = 1 \n",
    "    gamma = 0.8\n",
    "    \n",
    "    V = np.zeros(101)\n",
    "    #V[25] = 0.5\n",
    "    \n",
    "    def single_step(num, V, rewards):\n",
    "        A = np.zeros(101)\n",
    "        for bet in range(1, min(num, 100-num)+1):\n",
    "            win = num + bet\n",
    "            lose = num - bet\n",
    "            A[bet] = p * (rewards[win] + V[win]*gamma) + (1-p) * (rewards[lose] + V[lose]*gamma)\n",
    "            # This is the core of the Bellman equation: The expected value of your action is \n",
    "            # the sum of immediate rewards and the value of the next state.\n",
    "        return A\n",
    "    \n",
    "    while True:\n",
    "        delta = 0\n",
    "        for num in range(1, 100):\n",
    "            # a single-step to find the best action\n",
    "            A = single_step(num, V, rewards)\n",
    "            best_action_value = np.max(A)\n",
    "            # Calculate delta across all states seen so far\n",
    "            delta = max(delta, np.abs(best_action_value - V[num]))\n",
    "            # Update the value function. \n",
    "            V[num] = best_action_value        \n",
    "        if delta < theta:\n",
    "            break\n",
    "    \n",
    "    \n",
    "    policy = [0 for _ in range(101)]\n",
    "    for num in range(1, 100):\n",
    "        # single step to find the best action for this state\n",
    "        A = single_step(num, V, rewards)\n",
    "        best_action = np.argmax(A)\n",
    "        # Always take the best action\n",
    "        policy[num] = best_action\n",
    "    \n",
    "    return policy, V"
   ]
  },
  {
   "cell_type": "code",
   "execution_count": 314,
   "metadata": {},
   "outputs": [
    {
     "data": {
      "image/png": "[encoded data removed]",
      "text/plain": [
       "<Figure size 864x432 with 2 Axes>"
      ]
     },
     "metadata": {
      "needs_background": "light"
     },
     "output_type": "display_data"
    }
   ],
   "source": [
    "policy, v = value_iteration_for_betting(0.4)\n",
    "x = range(100)\n",
    "y = v[:100]\n",
    "plt.figure(figsize=(12, 6))\n",
    "plt.subplot(1,2,1)\n",
    "plt.plot(x, y)\n",
    "plt.xlabel('Capital')\n",
    "plt.ylabel('Value Estimates')\n",
    "plt.title('Value function for p = 0.4 and gamma = 0.8')\n",
    "\n",
    "\n",
    "x = range(100)\n",
    "y = policy[:100]\n",
    "plt.subplot(1,2,2)\n",
    "plt.bar(x, y, align='center', alpha=0.5)\n",
    "plt.xlabel('Capital')\n",
    "plt.ylabel('Final policy (stake)')\n",
    "plt.title('Final Policy for p = 0.4 and gamma = 0.8')\n",
    "plt.tight_layout()\n",
    "plt.show()"
   ]
  },
  {
   "cell_type": "markdown",
   "metadata": {},
   "source": [
    "### Betting Problem- Policy Iteration ###"
   ]
  },
  {
   "cell_type": "code",
   "execution_count": 315,
   "metadata": {},
   "outputs": [],
   "source": [
    "import numpy as np\n",
    "import random\n",
    "\n",
    "def single_step(num,V, p = 0.4):\n",
    "    rewards = np.zeros(101)\n",
    "    rewards[100] = 1\n",
    "    A = np.zeros(101)\n",
    "    \n",
    "    for bet in range(1,min(num, 100-num)+1):\n",
    "        win = num + bet\n",
    "        lose = num - bet\n",
    "        A[bet] = p * (rewards[win] + V[win]) + (1-p) * (rewards[lose] + V[lose])\n",
    "    return A"
   ]
  },
  {
   "cell_type": "code",
   "execution_count": 316,
   "metadata": {},
   "outputs": [],
   "source": [
    "def evaluate_policy(policy, theta = 0.0001, max_backups=1000):\n",
    "    old_values = np.zeros(101)\n",
    "    for i in range(max_backups):\n",
    "        delta = 0\n",
    "        new_values = np.zeros(101)\n",
    "        for num in range(1,100):\n",
    "            action_values = single_step(num,old_values)\n",
    "            new_values[num] = action_values[int(policy[num])]\n",
    "        if np.max(np.abs(new_values-old_values)) < theta:\n",
    "            break\n",
    "            \n",
    "        old_values = new_values\n",
    "    return new_values"
   ]
  },
  {
   "cell_type": "code",
   "execution_count": 317,
   "metadata": {},
   "outputs": [],
   "source": [
    "def policy_improvement(value_function):\n",
    "    policy = np.zeros(101)\n",
    "    for num in range(1,100):\n",
    "        action_values = single_step(num,value_function)\n",
    "        policy[num] = np.argmax(action_values)\n",
    "    #print(\"Optimal policy is \\n\") \n",
    "    #print(policy)\n",
    "    return policy"
   ]
  },
  {
   "cell_type": "code",
   "execution_count": 318,
   "metadata": {},
   "outputs": [],
   "source": [
    "def policy_iteration():\n",
    "    old_policy = np.zeros(101)\n",
    "    for i in range(100):\n",
    "        value_function = evaluate_policy(old_policy)\n",
    "        a2 = value_function\n",
    "        #print(value_function)\n",
    "        new_policy = policy_improvement(value_function)\n",
    "        if np.array_equal(old_policy,new_policy):\n",
    "            break\n",
    "        old_policy = new_policy\n",
    "    return a2"
   ]
  },
  {
   "cell_type": "code",
   "execution_count": 319,
   "metadata": {},
   "outputs": [],
   "source": [
    "a2 = policy_iteration()"
   ]
  },
  {
   "cell_type": "code",
   "execution_count": 320,
   "metadata": {},
   "outputs": [
    {
     "name": "stdout",
     "output_type": "stream",
     "text": [
      "[0.         0.00206121 0.00515303 0.00922512 0.01290295 0.01738208\n",
      " 0.02306279 0.02780229 0.03226961 0.03768437 0.04345519 0.05035153\n",
      " 0.05765697 0.06523347 0.06952406 0.07442925 0.08067403 0.08660573\n",
      " 0.09421092 0.10313682 0.10865021 0.11596344 0.12587883 0.13357072\n",
      " 0.14414243 0.16       0.16309182 0.16772954 0.17383767 0.17935443\n",
      " 0.18606088 0.19459418 0.20170343 0.20840442 0.21652655 0.22518279\n",
      " 0.2355273  0.24648546 0.2578502  0.26428609 0.27162552 0.28101105\n",
      " 0.28990859 0.30131638 0.31470523 0.32297531 0.33394516 0.34881824\n",
      " 0.36035609 0.37621365 0.4        0.40309182 0.40772954 0.41383767\n",
      " 0.41935443 0.42606088 0.43459418 0.44170343 0.44840442 0.45652655\n",
      " 0.46516444 0.4755273  0.48648546 0.4978502  0.50428609 0.51162552\n",
      " 0.52101105 0.52990859 0.54131638 0.55470523 0.56294779 0.57394516\n",
      " 0.58881824 0.60035609 0.61621365 0.64       0.64463772 0.65159431\n",
      " 0.66075651 0.66903164 0.67909133 0.69189128 0.70255514 0.71260663\n",
      " 0.72478983 0.73777418 0.75327872 0.76972819 0.7867753  0.79642914\n",
      " 0.80741994 0.82151658 0.83486289 0.85194399 0.87205784 0.88443545\n",
      " 0.90091773 0.92322737 0.94053413 0.96432048 0.        ]\n"
     ]
    }
   ],
   "source": [
    "print(a2)"
   ]
  },
  {
   "cell_type": "code",
   "execution_count": 333,
   "metadata": {},
   "outputs": [
    {
     "name": "stdout",
     "output_type": "stream",
     "text": [
      "[0, 1, 2, 3, 4, 5, 6, 7, 8, 9, 10, 11, 12, 12, 11, 15, 16, 17, 18, 6, 20, 21, 3, 23, 24, 25, 24, 27, 22, 29, 20, 19, 18, 33, 34, 35, 14, 37, 12, 11, 10, 9, 42, 7, 6, 5, 46, 3, 48, 49, 50, 49, 48, 47, 46, 45, 44, 43, 42, 41, 40, 39, 38, 37, 36, 35, 34, 33, 32, 31, 30, 29, 28, 27, 26, 25, 24, 23, 22, 21, 20, 19, 18, 17, 16, 15, 14, 13, 12, 11, 10, 9, 8, 7, 6, 5, 4, 3, 2, 1, 0]\n"
     ]
    }
   ],
   "source": [
    "print(policy)"
   ]
  },
  {
   "cell_type": "code",
   "execution_count": 321,
   "metadata": {},
   "outputs": [
    {
     "name": "stdout",
     "output_type": "stream",
     "text": [
      "False\n"
     ]
    }
   ],
   "source": [
    "print(np.array_equal(a1,a2))"
   ]
  },
  {
   "cell_type": "markdown",
   "metadata": {},
   "source": [
    "## Expected Value ##"
   ]
  },
  {
   "cell_type": "code",
   "execution_count": 322,
   "metadata": {
    "scrolled": true
   },
   "outputs": [
    {
     "name": "stdout",
     "output_type": "stream",
     "text": [
      "expected return:\n",
      " [0.         0.00181928 0.0045482  0.00802816 0.0113705  0.016384\n",
      " 0.0200704  0.0256     0.02842624 0.03343974 0.04096    0.04566385\n",
      " 0.05299831 0.064      0.06574332 0.06835831 0.07600532 0.08216251\n",
      " 0.09139831 0.09461651 0.10208891 0.11329751 0.12076991 0.1319785\n",
      " 0.1431871  0.16       0.15541065 0.16274477 0.17374596 0.17539283\n",
      " 0.18298166 0.1943649  0.19578253 0.20346306 0.21498385 0.22044274\n",
      " 0.23063055 0.24591226 0.25063922 0.25772966 0.26973486 0.28119225\n",
      " 0.29837833 0.30488212 0.3146378  0.32439348 0.339027   0.34878268\n",
      " 0.3634162  0.37804972 0.4        0.40304742 0.40761856 0.41536\n",
      " 0.4190464  0.42678784 0.4384     0.4420864  0.447616   0.45403034\n",
      " 0.46365184 0.4708182  0.48089092 0.496      0.50376553 0.51541382\n",
      " 0.52007314 0.52706211 0.53405109 0.54453455 0.55729299 0.57643065\n",
      " 0.58200871 0.5903758  0.60520523 0.61912314 0.64       0.64420555\n",
      " 0.65051388 0.66556333 0.678378   0.6976     0.69527752 0.70541723\n",
      " 0.7206268  0.73076651 0.74597608 0.76118565 0.784      0.78413539\n",
      " 0.79790523 0.81856    0.82690314 0.84430188 0.8704     0.87547713\n",
      " 0.89418228 0.92224    0.93650937 0.96190562 0.        ]\n"
     ]
    }
   ],
   "source": [
    "import numpy as np\n",
    "count = 0\n",
    "nterms = 1\n",
    "p = 0.6\n",
    "\n",
    "v = np.zeros(101)\n",
    "v[0] = 0\n",
    "v[100] = 1\n",
    "\n",
    "\n",
    "while count < nterms:\n",
    "    v[50] = p*v[0] + (1-p)*v[100]\n",
    "    v[25] = p*v[0] + (1-p)*v[50]\n",
    "    v[13] = p*v[0] + (1-p)*v[25]\n",
    "    v[7] = p*v[0] + (1-p)*v[13]\n",
    "    v[10] = p*v[7] + (1-p)*v[13]\n",
    "    v[5] = p*v[0] + (1-p)*v[10]\n",
    "    v[6] = p*v[5] + (1-p)*v[7]\n",
    "    v[3] = p*v[0] + (1-p)*v[6]\n",
    "    v[4] = p*v[3] + (1-p)*v[5]\n",
    "    v[2] = p*v[0] + (1-p)*v[4]\n",
    "    v[1] = p*v[0] + (1-p)*v[2]\n",
    "    v[8] = p*v[6] + (1-p)*v[10]\n",
    "    v[9] = p*v[8] + (1-p)*v[10]\n",
    "    v[11] = p*v[9] + (1-p)*v[13]\n",
    "    v[12] = p*v[11] + (1-p)*v[13]\n",
    "    v[18] = p*v[11] + (1-p)*v[25]\n",
    "    v[15] = p*v[12] + (1-p)*v[18]\n",
    "    v[14] = p*v[13] + (1-p)*v[15]\n",
    "    v[16] = p*v[14] + (1-p)*v[18]\n",
    "    v[17] = p*v[16] + (1-p)*v[18]\n",
    "    v[21] = p*v[17] + (1-p)*v[25]\n",
    "    v[19] = p*v[17] + (1-p)*v[21]\n",
    "    v[20] = p*v[19] + (1-p)*v[21]\n",
    "    v[22] = p*v[19] + (1-p)*v[25]\n",
    "    v[23] = p*v[21] + (1-p)*v[25]\n",
    "    v[24] = p*v[23] + (1-p)*v[25]\n",
    "    v[37] = p*v[24] + (1-p)*v[50]\n",
    "    v[31] = p*v[25] + (1-p)*v[37]\n",
    "    v[28] = p*v[25] + (1-p)*v[31]\n",
    "    v[26] = p*v[24] + (1-p)*v[28]\n",
    "    v[27] = p*v[26] + (1-p)*v[28]\n",
    "    v[29] = p*v[27] + (1-p)*v[31]\n",
    "    v[30] = p*v[29] + (1-p)*v[31]\n",
    "    v[34] = p*v[31] + (1-p)*v[37]\n",
    "    v[32] = p*v[30] + (1-p)*v[34]\n",
    "    v[33] = p*v[32] + (1-p)*v[34]\n",
    "    v[35] = p*v[33] + (1-p)*v[37]\n",
    "    v[36] = p*v[35] + (1-p)*v[37]\n",
    "    v[42] = p*v[36] + (1-p)*v[50]\n",
    "    v[39] = p*v[36] + (1-p)*v[42]\n",
    "    v[38] = p*v[37] + (1-p)*v[39]\n",
    "    v[40] = p*v[38] + (1-p)*v[42]\n",
    "    v[41] = p*v[40] + (1-p)*v[42]\n",
    "    v[46] = p*v[42] + (1-p)*v[50]\n",
    "    v[44] = p*v[42] + (1-p)*v[46]\n",
    "    v[43] = p*v[42] + (1-p)*v[44]\n",
    "    v[45] = p*v[44] + (1-p)*v[46]\n",
    "    v[12] = p*v[11] + (1-p)*v[13]\n",
    "    v[48] = p*v[46] + (1-p)*v[50]\n",
    "    v[47] = p*v[46] + (1-p)*v[48]\n",
    "    v[49] = p*v[48] + (1-p)*v[50]\n",
    "    v[76] = p*v[50] + (1-p)*v[100]\n",
    "    v[63] = p*v[50] + (1-p)*v[76]\n",
    "    v[56] = p*v[50] + (1-p)*v[63]\n",
    "    v[53] = p*v[50] + (1-p)*v[56]\n",
    "    v[58] = p*v[53] + (1-p)*v[63]\n",
    "    v[54] = p*v[50] + (1-p)*v[58]\n",
    "    v[55] = p*v[54] + (1-p)*v[56]\n",
    "    v[57] = p*v[56] + (1-p)*v[58]\n",
    "    v[52] = p*v[50] + (1-p)*v[54]\n",
    "    v[51] = p*v[50] + (1-p)*v[52]\n",
    "    v[60] = p*v[57] + (1-p)*v[63]\n",
    "    v[59] = p*v[58] + (1-p)*v[60]\n",
    "    v[61] = p*v[59] + (1-p)*v[63]\n",
    "    v[62] = p*v[61] + (1-p)*v[63]\n",
    "    v[69] = p*v[62] + (1-p)*v[76]\n",
    "    v[65] = p*v[63] + (1-p)*v[69]\n",
    "    v[64] = p*v[63] + (1-p)*v[65]\n",
    "    v[67] = p*v[65] + (1-p)*v[69]\n",
    "    v[68] = p*v[67] + (1-p)*v[69]\n",
    "    v[66] = p*v[65] + (1-p)*v[67]\n",
    "    v[71] = p*v[68] + (1-p)*v[76]\n",
    "    v[70] = p*v[69] + (1-p)*v[71]\n",
    "    v[73] = p*v[70] + (1-p)*v[76]\n",
    "    v[72] = p*v[71] + (1-p)*v[73]\n",
    "    v[74] = p*v[72] + (1-p)*v[76]\n",
    "    v[75] = p*v[74] + (1-p)*v[76]\n",
    "    v[88] = p*v[76] + (1-p)*v[100]\n",
    "    v[94] = p*v[88] + (1-p)*v[100]\n",
    "    v[97] = p*v[94] + (1-p)*v[100]\n",
    "    v[91] = p*v[88] + (1-p)*v[94]\n",
    "    v[81] = p*v[76] + (1-p)*v[88]\n",
    "    v[78] = p*v[75] + (1-p)*v[81]\n",
    "    v[77] = p*v[76] + (1-p)*v[78]\n",
    "    v[79] = p*v[77] + (1-p)*v[81]\n",
    "    v[80] = p*v[79] + (1-p)*v[81]\n",
    "    v[84] = p*v[80] + (1-p)*v[88]\n",
    "    v[82] = p*v[80] + (1-p)*v[84]\n",
    "    v[83] = p*v[82] + (1-p)*v[84]\n",
    "    v[85] = p*v[82] + (1-p)*v[88]\n",
    "    v[86] = p*v[84] + (1-p)*v[88]\n",
    "    v[87] = p*v[86] + (1-p)*v[88]\n",
    "    v[89] = p*v[87] + (1-p)*v[91]\n",
    "    v[90] = p*v[89] + (1-p)*v[91]\n",
    "    v[92] = p*v[90] + (1-p)*v[94]\n",
    "    v[93] = p*v[92] + (1-p)*v[94]\n",
    "    v[95] = p*v[93] + (1-p)*v[97]\n",
    "    v[96] = p*v[95] + (1-p)*v[97]\n",
    "    v[98] = p*v[96] + (1-p)*v[100]\n",
    "    v[99] = p*v[98] + (1-p)*v[100]\n",
    "    v[100] = 0\n",
    "    \n",
    "    b2 = v\n",
    "    print(\"expected return:\\n\", v)\n",
    "    count += 1"
   ]
  },
  {
   "cell_type": "code",
   "execution_count": 330,
   "metadata": {},
   "outputs": [
    {
     "name": "stdout",
     "output_type": "stream",
     "text": [
      "mse for value iteration:   2.8363355630201136e-05\n"
     ]
    }
   ],
   "source": [
    "#b1 : value iteration\n",
    "#b2 : expected return\n",
    "error = np.subtract(b1, b2)\n",
    "squared_error = np.square(error)\n",
    "mse = squared_error.mean()\n",
    "print(\"mse for value iteration:  \", mse)"
   ]
  },
  {
   "cell_type": "code",
   "execution_count": 331,
   "metadata": {},
   "outputs": [
    {
     "name": "stdout",
     "output_type": "stream",
     "text": [
      "mse for policy iteration:  2.828560846438454e-05\n"
     ]
    }
   ],
   "source": [
    "#a2 : policy iteration\n",
    "#b2 : expected return\n",
    "error = np.subtract(a2, b2)\n",
    "squared_error = np.square(error)\n",
    "mse = squared_error.mean()\n",
    "print(\"mse for policy iteration: \",mse)"
   ]
  },
  {
   "cell_type": "code",
   "execution_count": null,
   "metadata": {},
   "outputs": [],
   "source": []
  }
 ],
 "metadata": {
  "kernelspec": {
   "display_name": "Python 3",
   "language": "python",
   "name": "python3"
  },
  "language_info": {
   "codemirror_mode": {
    "name": "ipython",
    "version": 3
   },
   "file_extension": ".py",
   "mimetype": "text/x-python",
   "name": "python",
   "nbconvert_exporter": "python",
   "pygments_lexer": "ipython3",
   "version": "3.8.3"
  }
 },
 "nbformat": 4,
 "nbformat_minor": 4
}
